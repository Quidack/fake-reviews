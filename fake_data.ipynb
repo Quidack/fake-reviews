{
  "cells": [
    {
      "cell_type": "markdown",
      "metadata": {
        "colab_type": "text",
        "id": "view-in-github"
      },
      "source": [
        "<a href=\"https://colab.research.google.com/github/jurgis-vilums/fake-reviews/blob/master/fake_data.ipynb\" target=\"_parent\"><img src=\"https://colab.research.google.com/assets/colab-badge.svg\" alt=\"Open In Colab\"/></a>"
      ]
    },
    {
      "cell_type": "code",
      "execution_count": 3,
      "metadata": {
        "id": "F9snqt7E3ZkB"
      },
      "outputs": [],
      "source": [
        "import pandas as pd\n",
        "import random\n",
        "from datetime import datetime, timedelta\n",
        "import seaborn as sns\n",
        "import matplotlib.pyplot as plt"
      ]
    },
    {
      "cell_type": "code",
      "execution_count": 4,
      "metadata": {
        "id": "vJs8qJ3N3q3S"
      },
      "outputs": [],
      "source": [
        "# Number of responses to generate\n",
        "num_responses = 100\n",
        "\n",
        "# Possible answers\n",
        "roles = [\n",
        "    \"Cosmetology specialist\", \"Massage professional\", \"Cosmetics brand owner\",\n",
        "    \"Beauty studio manager/administrator\", \"Individual consumer\", \"Other, please specify\"\n",
        "]\n",
        "brands = [\"Brand A\", \"Brand B\", \"Brand C\", \"Brand D\", \"Brand E\"]\n",
        "discovery_methods = [\n",
        "    \"At an exhibition\", \"At educational courses\", \"From colleagues\", \"At your workplace\",\n",
        "    \"From clients\", \"From a family member\", \"Through an internet search\",\n",
        "    \"Via an internet advertisement\", \"Via a social media advertisement\",\n",
        "    \"Through an email newsletter\", \"Word of mouth\", \"Shelf or poster ad at the shop\",\n",
        "    \"Friends\", \"School/college\", \"Other, please specify\"\n",
        "]\n",
        "marketing_channels = [\n",
        "    \"Email\", \"Instagram\", \"Linkedin\", \"TikTok\", \"Visiting the website\",\n",
        "    \"Phone calls to the sales manager\", \"Visits to a physical store\",\n",
        "    \"Through colleagues/bosses\", \"I do not follow any\"\n",
        "]\n",
        "stop_causes = [\n",
        "    \"Products becoming widely available in shops\", \"Reduced support from sales manager\",\n",
        "    \"Absence of new product lines\", \"New product lines lacking a unique sales proposition\",\n",
        "    \"Lack of educational seminars supporting new products\",\n",
        "    \"Brand not recognized or preferred by clients\", \"Dissatisfaction with products among clients\",\n",
        "    \"Product-based procedures becoming less profitable\",\n",
        "    \"Moving to another country where the brand is unknown\",\n",
        "    \"Ethical or financial scandals associated with the brand or personnel\",\n",
        "    \"Slow or poor product delivery\", \"Receiving spoiled or damaged products\"\n",
        "]\n",
        "\n",
        "def generate_responses(num):\n",
        "    data = []\n",
        "    for _ in range(num):\n",
        "        role = random.choices(roles, weights=[1, 1, 1, 1, 4, 1])[0]\n",
        "        brand = random.choices(brands, weights=[4, 1, 1, 1, 1])[0]\n",
        "        years_using = max(0, min(30, int(random.gauss(6, 4))))\n",
        "        discovery = random.choices(discovery_methods, weights=[1,2,3,4,5,14,5,6,12,8,5,10,4,14,3])[0]\n",
        "        \n",
        "        # Generate multiple channels and join them as a single string\n",
        "        num_channels = max(1, min(9, int(random.gauss(6, 4))))\n",
        "        channels_followed = ', '.join(random.choices(marketing_channels, weights=[1, 1, 1, 1, 4, 1, 1, 1, 1], k=num_channels))\n",
        "\n",
        "        personal_use = random.choices([\"Yes\", \"No\"], weights=[3, 1])[0]\n",
        "\n",
        "        familiar_product_line = f\"Product Line {random.randint(1, 5)}\"\n",
        "\n",
        "        # Randomly generate causes to stop using\n",
        "        causes_to_stop = ', '.join(random.choices(stop_causes, weights=[1, 1, 1, 1, 4, 1, 1, 1, 1, 1, 1, 1], k=max(1, min(12, int(random.gauss(6, 4))))))\n",
        "        \n",
        "        issues_encountered = max(0, min(5, int(random.gauss(3, 1))))\n",
        "        loyalty = max(0, min(10, int(random.gauss(7, 2))))\n",
        "        online_store_usage = random.choices([\"Yes\", \"No\"], weights=[4, 1])[0]\n",
        "        quarterly_spend = max(50, min(1000, int(random.gauss(300, 100))))\n",
        "\n",
        "        row = {\n",
        "            \"Role in Cosmetics Industry\": role,\n",
        "            \"Cosmetic Brand Used Most Frequently\": brand,\n",
        "            \"Years Using Brand\": years_using,\n",
        "            \"Learned About Brand\": discovery,\n",
        "            \"Marketing Channels Followed\": channels_followed,\n",
        "            \"Personal Use at Home\": personal_use,\n",
        "            \"Most Familiar Product Line\": familiar_product_line,\n",
        "            \"Potential Causes to Stop Using Brand\": causes_to_stop,\n",
        "            \"Issues Encountered\": issues_encountered,\n",
        "            \"Loyalty\": loyalty,\n",
        "            \"Use Online Store\": online_store_usage,\n",
        "            \"Average Quarterly Spend\": quarterly_spend\n",
        "        }\n",
        "        \n",
        "        data.append(row)\n",
        "    \n",
        "    return data\n",
        "\n",
        "responses = generate_responses(num_responses)\n",
        "df = pd.DataFrame(responses)\n",
        "\n",
        "df.to_csv(\"biased_fake_responses.csv\", index=False)"
      ]
    }
  ],
  "metadata": {
    "colab": {
      "authorship_tag": "ABX9TyMp5vvBXz2VOl2rZNA2L043",
      "include_colab_link": true,
      "provenance": []
    },
    "kernelspec": {
      "display_name": "Python 3",
      "name": "python3"
    },
    "language_info": {
      "codemirror_mode": {
        "name": "ipython",
        "version": 3
      },
      "file_extension": ".py",
      "mimetype": "text/x-python",
      "name": "python",
      "nbconvert_exporter": "python",
      "pygments_lexer": "ipython3",
      "version": "3.12.3"
    }
  },
  "nbformat": 4,
  "nbformat_minor": 0
}
